{
 "cells": [
  {
   "cell_type": "code",
   "execution_count": 1,
   "metadata": {},
   "outputs": [],
   "source": [
    "import numpy as np \n",
    "import pandas as pd \n",
    "import seaborn as sns \n",
    "import matplotlib.pyplot as plt \n",
    "import bambi as bmb \n",
    "# import hssm\n",
    "import os\n",
    "import arviz as az \n",
    "import pymc as pm\n",
    "# hssm.set_floatX(\"float32\")\n",
    "random_seed = 10\n",
    "from utils import *\n",
    "sns.set_palette('colorblind')"
   ]
  },
  {
   "cell_type": "markdown",
   "metadata": {},
   "source": [
    "## Read data"
   ]
  },
  {
   "cell_type": "code",
   "execution_count": 21,
   "metadata": {},
   "outputs": [],
   "source": [
    "files = os.listdir('data/')\n",
    "comb_data = pd.concat([extract_data(fname) for fname in files]).reset_index(drop=True)\n",
    "comb_data = comb_data.loc[comb_data['rt'] < 10].reset_index(drop = True)\n",
    "comb_data = comb_data.loc[comb_data['rt'] > 0.1].reset_index(drop = True)\n",
    "\n",
    "comb_data['shape'] = 'noisy'\n",
    "comb_data.loc[comb_data['bumps'] == 'single', 'shape'] = 'single_extremum'\n",
    "comb_data.loc[comb_data['bumps'] == 'center', 'shape'] = 'three_extrema'\n",
    "comb_data['participant_id'] = comb_data['participant']\n"
   ]
  },
  {
   "cell_type": "markdown",
   "metadata": {},
   "source": [
    "# Basic Plotting"
   ]
  },
  {
   "cell_type": "code",
   "execution_count": 3,
   "metadata": {},
   "outputs": [
    {
     "name": "stderr",
     "output_type": "stream",
     "text": [
      "C:\\Users\\tejas\\AppData\\Local\\Temp\\ipykernel_19616\\521435429.py:1: FutureWarning: The default value of numeric_only in DataFrameGroupBy.mean is deprecated. In a future version, numeric_only will default to False. Either specify numeric_only or select only columns which should be valid for the function.\n",
      "  comb_data_participant = comb_data.groupby(['means', 'direction', 'shape', 'diff_dir', 'cond']).mean().reset_index()\n"
     ]
    },
    {
     "data": {
      "text/html": [
       "<div>\n",
       "<style scoped>\n",
       "    .dataframe tbody tr th:only-of-type {\n",
       "        vertical-align: middle;\n",
       "    }\n",
       "\n",
       "    .dataframe tbody tr th {\n",
       "        vertical-align: top;\n",
       "    }\n",
       "\n",
       "    .dataframe thead th {\n",
       "        text-align: right;\n",
       "    }\n",
       "</style>\n",
       "<table border=\"1\" class=\"dataframe\">\n",
       "  <thead>\n",
       "    <tr style=\"text-align: right;\">\n",
       "      <th></th>\n",
       "      <th>means</th>\n",
       "      <th>direction</th>\n",
       "      <th>shape</th>\n",
       "      <th>diff_dir</th>\n",
       "      <th>cond</th>\n",
       "      <th>participant</th>\n",
       "      <th>trials.thisN</th>\n",
       "      <th>difference</th>\n",
       "      <th>rt</th>\n",
       "      <th>accuracy</th>\n",
       "      <th>response</th>\n",
       "      <th>participant_id</th>\n",
       "    </tr>\n",
       "  </thead>\n",
       "  <tbody>\n",
       "    <tr>\n",
       "      <th>0</th>\n",
       "      <td>36.0</td>\n",
       "      <td>-1.0</td>\n",
       "      <td>single_extremum</td>\n",
       "      <td>-1.0</td>\n",
       "      <td>chart</td>\n",
       "      <td>164513.800000</td>\n",
       "      <td>137.000000</td>\n",
       "      <td>-9.200000</td>\n",
       "      <td>1.287945</td>\n",
       "      <td>0.933333</td>\n",
       "      <td>0.866667</td>\n",
       "      <td>164513.800000</td>\n",
       "    </tr>\n",
       "    <tr>\n",
       "      <th>1</th>\n",
       "      <td>36.0</td>\n",
       "      <td>-1.0</td>\n",
       "      <td>single_extremum</td>\n",
       "      <td>-1.0</td>\n",
       "      <td>numerical</td>\n",
       "      <td>119383.769231</td>\n",
       "      <td>143.615385</td>\n",
       "      <td>-10.000000</td>\n",
       "      <td>2.073434</td>\n",
       "      <td>0.461538</td>\n",
       "      <td>-0.076923</td>\n",
       "      <td>119383.769231</td>\n",
       "    </tr>\n",
       "    <tr>\n",
       "      <th>2</th>\n",
       "      <td>36.0</td>\n",
       "      <td>-1.0</td>\n",
       "      <td>single_extremum</td>\n",
       "      <td>-1.0</td>\n",
       "      <td>slider</td>\n",
       "      <td>116417.363636</td>\n",
       "      <td>183.818182</td>\n",
       "      <td>-9.181818</td>\n",
       "      <td>2.113928</td>\n",
       "      <td>0.545455</td>\n",
       "      <td>0.090909</td>\n",
       "      <td>116417.363636</td>\n",
       "    </tr>\n",
       "    <tr>\n",
       "      <th>3</th>\n",
       "      <td>36.0</td>\n",
       "      <td>-1.0</td>\n",
       "      <td>single_extremum</td>\n",
       "      <td>1.0</td>\n",
       "      <td>chart</td>\n",
       "      <td>154264.875000</td>\n",
       "      <td>169.000000</td>\n",
       "      <td>10.375000</td>\n",
       "      <td>1.339754</td>\n",
       "      <td>0.812500</td>\n",
       "      <td>0.625000</td>\n",
       "      <td>154264.875000</td>\n",
       "    </tr>\n",
       "    <tr>\n",
       "      <th>4</th>\n",
       "      <td>36.0</td>\n",
       "      <td>-1.0</td>\n",
       "      <td>single_extremum</td>\n",
       "      <td>1.0</td>\n",
       "      <td>numerical</td>\n",
       "      <td>119383.769231</td>\n",
       "      <td>131.076923</td>\n",
       "      <td>9.692308</td>\n",
       "      <td>0.878510</td>\n",
       "      <td>0.846154</td>\n",
       "      <td>0.692308</td>\n",
       "      <td>119383.769231</td>\n",
       "    </tr>\n",
       "    <tr>\n",
       "      <th>...</th>\n",
       "      <td>...</td>\n",
       "      <td>...</td>\n",
       "      <td>...</td>\n",
       "      <td>...</td>\n",
       "      <td>...</td>\n",
       "      <td>...</td>\n",
       "      <td>...</td>\n",
       "      <td>...</td>\n",
       "      <td>...</td>\n",
       "      <td>...</td>\n",
       "      <td>...</td>\n",
       "      <td>...</td>\n",
       "    </tr>\n",
       "    <tr>\n",
       "      <th>865</th>\n",
       "      <td>64.0</td>\n",
       "      <td>1.0</td>\n",
       "      <td>three_extrema</td>\n",
       "      <td>-1.0</td>\n",
       "      <td>numerical</td>\n",
       "      <td>119383.769231</td>\n",
       "      <td>168.000000</td>\n",
       "      <td>-9.461538</td>\n",
       "      <td>1.488471</td>\n",
       "      <td>0.846154</td>\n",
       "      <td>0.692308</td>\n",
       "      <td>119383.769231</td>\n",
       "    </tr>\n",
       "    <tr>\n",
       "      <th>866</th>\n",
       "      <td>64.0</td>\n",
       "      <td>1.0</td>\n",
       "      <td>three_extrema</td>\n",
       "      <td>-1.0</td>\n",
       "      <td>slider</td>\n",
       "      <td>116417.363636</td>\n",
       "      <td>139.454545</td>\n",
       "      <td>-10.000000</td>\n",
       "      <td>1.183802</td>\n",
       "      <td>0.818182</td>\n",
       "      <td>0.636364</td>\n",
       "      <td>116417.363636</td>\n",
       "    </tr>\n",
       "    <tr>\n",
       "      <th>867</th>\n",
       "      <td>64.0</td>\n",
       "      <td>1.0</td>\n",
       "      <td>three_extrema</td>\n",
       "      <td>1.0</td>\n",
       "      <td>chart</td>\n",
       "      <td>154264.875000</td>\n",
       "      <td>169.937500</td>\n",
       "      <td>9.000000</td>\n",
       "      <td>1.885519</td>\n",
       "      <td>0.812500</td>\n",
       "      <td>0.625000</td>\n",
       "      <td>154264.875000</td>\n",
       "    </tr>\n",
       "    <tr>\n",
       "      <th>868</th>\n",
       "      <td>64.0</td>\n",
       "      <td>1.0</td>\n",
       "      <td>three_extrema</td>\n",
       "      <td>1.0</td>\n",
       "      <td>numerical</td>\n",
       "      <td>129289.250000</td>\n",
       "      <td>138.416667</td>\n",
       "      <td>7.750000</td>\n",
       "      <td>1.151771</td>\n",
       "      <td>0.500000</td>\n",
       "      <td>0.000000</td>\n",
       "      <td>129289.250000</td>\n",
       "    </tr>\n",
       "    <tr>\n",
       "      <th>869</th>\n",
       "      <td>64.0</td>\n",
       "      <td>1.0</td>\n",
       "      <td>three_extrema</td>\n",
       "      <td>1.0</td>\n",
       "      <td>slider</td>\n",
       "      <td>116417.363636</td>\n",
       "      <td>155.090909</td>\n",
       "      <td>8.545455</td>\n",
       "      <td>1.771055</td>\n",
       "      <td>0.363636</td>\n",
       "      <td>-0.272727</td>\n",
       "      <td>116417.363636</td>\n",
       "    </tr>\n",
       "  </tbody>\n",
       "</table>\n",
       "<p>870 rows × 12 columns</p>\n",
       "</div>"
      ],
      "text/plain": [
       "     means  direction            shape  diff_dir       cond    participant  \\\n",
       "0     36.0       -1.0  single_extremum      -1.0      chart  164513.800000   \n",
       "1     36.0       -1.0  single_extremum      -1.0  numerical  119383.769231   \n",
       "2     36.0       -1.0  single_extremum      -1.0     slider  116417.363636   \n",
       "3     36.0       -1.0  single_extremum       1.0      chart  154264.875000   \n",
       "4     36.0       -1.0  single_extremum       1.0  numerical  119383.769231   \n",
       "..     ...        ...              ...       ...        ...            ...   \n",
       "865   64.0        1.0    three_extrema      -1.0  numerical  119383.769231   \n",
       "866   64.0        1.0    three_extrema      -1.0     slider  116417.363636   \n",
       "867   64.0        1.0    three_extrema       1.0      chart  154264.875000   \n",
       "868   64.0        1.0    three_extrema       1.0  numerical  129289.250000   \n",
       "869   64.0        1.0    three_extrema       1.0     slider  116417.363636   \n",
       "\n",
       "     trials.thisN  difference        rt  accuracy  response  participant_id  \n",
       "0      137.000000   -9.200000  1.287945  0.933333  0.866667   164513.800000  \n",
       "1      143.615385  -10.000000  2.073434  0.461538 -0.076923   119383.769231  \n",
       "2      183.818182   -9.181818  2.113928  0.545455  0.090909   116417.363636  \n",
       "3      169.000000   10.375000  1.339754  0.812500  0.625000   154264.875000  \n",
       "4      131.076923    9.692308  0.878510  0.846154  0.692308   119383.769231  \n",
       "..            ...         ...       ...       ...       ...             ...  \n",
       "865    168.000000   -9.461538  1.488471  0.846154  0.692308   119383.769231  \n",
       "866    139.454545  -10.000000  1.183802  0.818182  0.636364   116417.363636  \n",
       "867    169.937500    9.000000  1.885519  0.812500  0.625000   154264.875000  \n",
       "868    138.416667    7.750000  1.151771  0.500000  0.000000   129289.250000  \n",
       "869    155.090909    8.545455  1.771055  0.363636 -0.272727   116417.363636  \n",
       "\n",
       "[870 rows x 12 columns]"
      ]
     },
     "execution_count": 3,
     "metadata": {},
     "output_type": "execute_result"
    }
   ],
   "source": [
    "comb_data_participant = comb_data.groupby(['means', 'direction', 'shape', 'diff_dir', 'cond']).mean().reset_index()\n",
    "comb_data_participant"
   ]
  },
  {
   "cell_type": "code",
   "execution_count": 7,
   "metadata": {},
   "outputs": [
    {
     "data": {
      "text/plain": [
       "(9,)"
      ]
     },
     "execution_count": 7,
     "metadata": {},
     "output_type": "execute_result"
    }
   ],
   "source": [
    "comb_data_participant.loc[comb_data_participant['cond'] == 'slider'].participant.unique().shape"
   ]
  },
  {
   "cell_type": "code",
   "execution_count": 8,
   "metadata": {},
   "outputs": [
    {
     "data": {
      "text/plain": [
       "<seaborn.axisgrid.FacetGrid at 0x1c57132a5d0>"
      ]
     },
     "execution_count": 8,
     "metadata": {},
     "output_type": "execute_result"
    },
    {
     "data": {
      "image/png": "[encoded data removed]",
      "text/plain": [
       "<Figure size 1577x1500 with 9 Axes>"
      ]
     },
     "metadata": {},
     "output_type": "display_data"
    }
   ],
   "source": [
    "sns.catplot(x = 'diff_dir', y = 'rt', hue = 'direction', col = 'cond', row = 'shape', \n",
    "#             estimator='median',\n",
    "            data = comb_data_participant, kind = 'point', capsize = 0.2)\n"
   ]
  },
  {
   "cell_type": "markdown",
   "metadata": {},
   "source": [
    "## Non Hierarchical Linear Modeling"
   ]
  },
  {
   "cell_type": "markdown",
   "metadata": {},
   "source": [
    "### Single Parameter Models"
   ]
  },
  {
   "cell_type": "code",
   "execution_count": 9,
   "metadata": {},
   "outputs": [],
   "source": [
    "single_param_models = ['diff_dir', 'means', 'direction', 'shape', 'difference', 'cond']"
   ]
  },
  {
   "cell_type": "code",
   "execution_count": 10,
   "metadata": {},
   "outputs": [],
   "source": [
    "def single_param_model_fits(single_param_models, dv = 'accuracy', family = 'bernoulli', data = comb_data):\n",
    "    model_single_param_samples = {}\n",
    "    for param in single_param_models:\n",
    "        print('Fittting param: ', param)\n",
    "        models_oneparam_nh = bmb.Model(f'{dv}~{param}', data = comb_data, family= family)\n",
    "        models_oneparam_nh.build()\n",
    "        model_single_param_samples[param] = models_oneparam_nh.fit(idata_kwargs={\"log_likelihood\": True})\n",
    "        \n",
    "    return model_single_param_samples"
   ]
  },
  {
   "cell_type": "markdown",
   "metadata": {},
   "source": [
    "### All parameter models"
   ]
  },
  {
   "cell_type": "markdown",
   "metadata": {},
   "source": [
    "#### Additive model"
   ]
  },
  {
   "cell_type": "code",
   "execution_count": 18,
   "metadata": {},
   "outputs": [],
   "source": [
    "def additive_model_fit(dv = 'accuracy', family = 'bernoulli', data = comb_data):\n",
    "    allparam_nh = bmb.Model(f'{dv}~ C(diff_dir) +  C(direction) + shape + difference + cond + means', \n",
    "    data = comb_data, family=family)\n",
    "    allparam_nh.build()\n",
    "    # allparam_nh.graph()\n",
    "    allparam_nh_samples = allparam_nh.fit(idata_kwargs={\"log_likelihood\": True})\n",
    "    return allparam_nh_samples\n"
   ]
  },
  {
   "cell_type": "code",
   "execution_count": null,
   "metadata": {},
   "outputs": [],
   "source": []
  },
  {
   "cell_type": "markdown",
   "metadata": {},
   "source": [
    "#### Models with interaction"
   ]
  },
  {
   "cell_type": "code",
   "execution_count": 8,
   "metadata": {},
   "outputs": [],
   "source": [
    "def models_with_interaction_fits(dv = 'accuracy', family = 'bernoulli', link = 'identity', data = comb_data, formula_rhs = 'C(diff_dir) + means + C(direction) + difference + C(bumps_)*C(cond)'):\n",
    "    allparam_interaction_nh = bmb.Model(f'{dv} ~ {formula_rhs}', \n",
    "    data = data, family=family, link = link)\n",
    "    allparam_interaction_nh.build()\n",
    "    # allparam_interaction_nh.graph()\n",
    "    allparam_interaction_nh_samples = allparam_interaction_nh.fit(idata_kwargs={\"log_likelihood\": True})\n",
    "    return allparam_interaction_nh_samples\n",
    "\n",
    "def models_with_interaction_specification(dv = 'accuracy', family = 'bernoulli', link = 'identity', data = comb_data, formula_rhs = 'C(diff_dir) + means + C(direction) + difference + C(bumps_)*C(cond)'):\n",
    "    allparam_interaction_nh = bmb.Model(f'{dv} ~ {formula_rhs}', \n",
    "    data = data, family=family, link = link)\n",
    "    allparam_interaction_nh.build()\n",
    "    return allparam_interaction_nh\n"
   ]
  },
  {
   "cell_type": "markdown",
   "metadata": {},
   "source": [
    "## Run, Collect and Save Models for Accuracy"
   ]
  },
  {
   "cell_type": "code",
   "execution_count": 7,
   "metadata": {},
   "outputs": [],
   "source": [
    "model_comp_dict = {}\n",
    "# model_comp_dict = single_param_model_fits(single_param_models)\n",
    "# model_comp_dict['allparam_additive'] = additive_model_fit()"
   ]
  },
  {
   "cell_type": "code",
   "execution_count": 8,
   "metadata": {},
   "outputs": [
    {
     "name": "stderr",
     "output_type": "stream",
     "text": [
      "Modeling the probability that accuracy==1\n",
      "Auto-assigning NUTS sampler...\n",
      "Initializing NUTS using jitter+adapt_diag...\n",
      "Multiprocess sampling (4 chains in 4 jobs)\n",
      "NUTS: [Intercept, means, shape, cond, shape:cond, C(direction), C(diff_dir), C(direction):C(diff_dir), difference]\n"
     ]
    },
    {
     "data": {
      "text/html": [
       "\n",
       "<style>\n",
       "    /* Turns off some styling */\n",
       "    progress {\n",
       "        /* gets rid of default border in Firefox and Opera. */\n",
       "        border: none;\n",
       "        /* Needs to be in here for Safari polyfill so background images work as expected. */\n",
       "        background-size: auto;\n",
       "    }\n",
       "    progress:not([value]), progress:not([value])::-webkit-progress-bar {\n",
       "        background: repeating-linear-gradient(45deg, #7e7e7e, #7e7e7e 10px, #5c5c5c 10px, #5c5c5c 20px);\n",
       "    }\n",
       "    .progress-bar-interrupted, .progress-bar-interrupted::-webkit-progress-bar {\n",
       "        background: #F44336;\n",
       "    }\n",
       "</style>\n"
      ],
      "text/plain": [
       "<IPython.core.display.HTML object>"
      ]
     },
     "metadata": {},
     "output_type": "display_data"
    },
    {
     "data": {
      "text/html": [
       "\n",
       "    <div>\n",
       "      <progress value='8000' class='' max='8000' style='width:300px; height:20px; vertical-align: middle;'></progress>\n",
       "      100.00% [8000/8000 11:13&lt;00:00 Sampling 4 chains, 0 divergences]\n",
       "    </div>\n",
       "    "
      ],
      "text/plain": [
       "<IPython.core.display.HTML object>"
      ]
     },
     "metadata": {},
     "output_type": "display_data"
    },
    {
     "name": "stderr",
     "output_type": "stream",
     "text": [
      "Sampling 4 chains for 1_000 tune and 1_000 draw iterations (4_000 + 4_000 draws total) took 702 seconds.\n",
      "Modeling the probability that accuracy==1\n",
      "Auto-assigning NUTS sampler...\n",
      "Initializing NUTS using jitter+adapt_diag...\n",
      "Multiprocess sampling (4 chains in 4 jobs)\n",
      "NUTS: [Intercept, means, shape, cond, shape:cond, difference, C(diff_dir), difference:C(diff_dir), C(direction)]\n"
     ]
    },
    {
     "data": {
      "text/html": [
       "\n",
       "<style>\n",
       "    /* Turns off some styling */\n",
       "    progress {\n",
       "        /* gets rid of default border in Firefox and Opera. */\n",
       "        border: none;\n",
       "        /* Needs to be in here for Safari polyfill so background images work as expected. */\n",
       "        background-size: auto;\n",
       "    }\n",
       "    progress:not([value]), progress:not([value])::-webkit-progress-bar {\n",
       "        background: repeating-linear-gradient(45deg, #7e7e7e, #7e7e7e 10px, #5c5c5c 10px, #5c5c5c 20px);\n",
       "    }\n",
       "    .progress-bar-interrupted, .progress-bar-interrupted::-webkit-progress-bar {\n",
       "        background: #F44336;\n",
       "    }\n",
       "</style>\n"
      ],
      "text/plain": [
       "<IPython.core.display.HTML object>"
      ]
     },
     "metadata": {},
     "output_type": "display_data"
    },
    {
     "data": {
      "text/html": [
       "\n",
       "    <div>\n",
       "      <progress value='8000' class='' max='8000' style='width:300px; height:20px; vertical-align: middle;'></progress>\n",
       "      100.00% [8000/8000 12:14&lt;00:00 Sampling 4 chains, 0 divergences]\n",
       "    </div>\n",
       "    "
      ],
      "text/plain": [
       "<IPython.core.display.HTML object>"
      ]
     },
     "metadata": {},
     "output_type": "display_data"
    },
    {
     "name": "stderr",
     "output_type": "stream",
     "text": [
      "Sampling 4 chains for 1_000 tune and 1_000 draw iterations (4_000 + 4_000 draws total) took 767 seconds.\n"
     ]
    }
   ],
   "source": [
    "# model_comp_dict['allparam_formatinteraction_threewayinteract'] = models_with_interaction_fits(link = 'logit', \n",
    "#                                                                                   formula_rhs = 'means + shape*cond + difference*C(direction)*C(diff_dir)')\n",
    "model_comp_dict['allparam_formatinteract_shapediffdirectioninteract_difference'] = models_with_interaction_fits(link = 'logit', \n",
    "                                                                                  formula_rhs = 'means + shape*cond + C(direction)*C(diff_dir) + difference')\n",
    "model_comp_dict['allparam_formatinteract_shape_diffdirectiondiffinteract'] = models_with_interaction_fits(link = 'logit', \n",
    "                                                                                  formula_rhs = 'means + shape*cond + difference*C(diff_dir) + C(direction)')\n"
   ]
  },
  {
   "cell_type": "code",
   "execution_count": 9,
   "metadata": {},
   "outputs": [
    {
     "data": {
      "text/plain": [
       "{'allparam_formatinteract_shapediffdirectioninteract_difference': Inference data with groups:\n",
       " \t> posterior\n",
       " \t> log_likelihood\n",
       " \t> sample_stats\n",
       " \t> observed_data,\n",
       " 'allparam_formatinteract_shape_diffdirectiondiffinteract': Inference data with groups:\n",
       " \t> posterior\n",
       " \t> log_likelihood\n",
       " \t> sample_stats\n",
       " \t> observed_data}"
      ]
     },
     "execution_count": 9,
     "metadata": {},
     "output_type": "execute_result"
    }
   ],
   "source": [
    "model_comp_dict"
   ]
  },
  {
   "cell_type": "code",
   "execution_count": 10,
   "metadata": {},
   "outputs": [],
   "source": [
    "# #Save\n",
    "for key in model_comp_dict.keys():\n",
    "    az.to_netcdf(model_comp_dict[key], f'modeling_results/linear_modeling_results/Accuracy/{key}')"
   ]
  },
  {
   "cell_type": "code",
   "execution_count": 29,
   "metadata": {},
   "outputs": [],
   "source": []
  },
  {
   "cell_type": "code",
   "execution_count": 30,
   "metadata": {},
   "outputs": [
    {
     "name": "stderr",
     "output_type": "stream",
     "text": [
      "C:\\Users\\tejas\\AppData\\Local\\Temp\\ipykernel_484\\4008330991.py:1: FutureWarning: In future versions `DataFrame.to_latex` is expected to utilise the base implementation of `Styler.to_latex` for formatting and rendering. The arguments signature may therefore change. It is recommended instead to use `DataFrame.style.to_latex` which also contains additional functionality.\n",
      "  accuracy_model_comp.to_latex('accuracy_model_comp')\n"
     ]
    }
   ],
   "source": []
  },
  {
   "cell_type": "code",
   "execution_count": 11,
   "metadata": {},
   "outputs": [],
   "source": [
    "# accuracy_model_comp"
   ]
  },
  {
   "cell_type": "markdown",
   "metadata": {},
   "source": [
    "## Run Collect and save models for RTs"
   ]
  },
  {
   "cell_type": "code",
   "execution_count": null,
   "metadata": {},
   "outputs": [
    {
     "name": "stderr",
     "output_type": "stream",
     "text": [
      "Auto-assigning NUTS sampler...\n",
      "Initializing NUTS using jitter+adapt_diag...\n",
      "Multiprocess sampling (4 chains in 4 jobs)\n",
      "NUTS: [rt_lam, Intercept, means, shape, cond, shape:cond, C(direction), C(diff_dir), C(direction):C(diff_dir), difference]\n"
     ]
    },
    {
     "data": {
      "text/html": [
       "\n",
       "<style>\n",
       "    /* Turns off some styling */\n",
       "    progress {\n",
       "        /* gets rid of default border in Firefox and Opera. */\n",
       "        border: none;\n",
       "        /* Needs to be in here for Safari polyfill so background images work as expected. */\n",
       "        background-size: auto;\n",
       "    }\n",
       "    progress:not([value]), progress:not([value])::-webkit-progress-bar {\n",
       "        background: repeating-linear-gradient(45deg, #7e7e7e, #7e7e7e 10px, #5c5c5c 10px, #5c5c5c 20px);\n",
       "    }\n",
       "    .progress-bar-interrupted, .progress-bar-interrupted::-webkit-progress-bar {\n",
       "        background: #F44336;\n",
       "    }\n",
       "</style>\n"
      ],
      "text/plain": [
       "<IPython.core.display.HTML object>"
      ]
     },
     "metadata": {},
     "output_type": "display_data"
    },
    {
     "data": {
      "text/html": [
       "\n",
       "    <div>\n",
       "      <progress value='6170' class='' max='8000' style='width:300px; height:20px; vertical-align: middle;'></progress>\n",
       "      77.12% [6170/8000 09:13&lt;02:44 Sampling 4 chains, 0 divergences]\n",
       "    </div>\n",
       "    "
      ],
      "text/plain": [
       "<IPython.core.display.HTML object>"
      ]
     },
     "metadata": {},
     "output_type": "display_data"
    }
   ],
   "source": [
    "model_comp_dict = {}\n",
    "# model_comp_dict['allparam_additive'] = models_with_interaction_fits(dv = 'rt', family = 'wald', link = 'log',\n",
    "                                                                    # formula_rhs = 'C(diff_dir) + means + C(direction) + shape + cond + difference')\n",
    "# model_comp_dict['allparam_shape_cond_interaction'] = models_with_interaction_fits(dv = 'rt', family = 'wald', link = 'log', \n",
    "#                                                                                         formula_rhs = 'C(diff_dir) + means + C(direction) + shape*cond + difference')\n",
    "model_comp_dict['allparam_formatinteract_shapediffdirectioninteract_difference'] = models_with_interaction_fits(dv = 'rt', family = 'wald', link = 'log',\n",
    "                                                                                                                formula_rhs = 'means + shape*cond + C(direction)*C(diff_dir) + difference')\n",
    "model_comp_dict['allparam_formatinteract_shape_diffdirectiondiffinteract'] = models_with_interaction_fits(dv = 'rt', family = 'wald', link = 'log',\n",
    "                                                                                                          formula_rhs = 'means + shape*cond + difference*C(diff_dir) + C(direction)')\n"
   ]
  },
  {
   "cell_type": "code",
   "execution_count": 33,
   "metadata": {},
   "outputs": [],
   "source": [
    "#Save\n",
    "for key in model_comp_dict.keys():\n",
    "    az.to_netcdf(model_comp_dict[key], f'modeling_results/linear_modeling_results/RT/{key}')"
   ]
  },
  {
   "cell_type": "code",
   "execution_count": 34,
   "metadata": {},
   "outputs": [],
   "source": [
    "model_comp_dict['allparam_shape_cond_interaction'] = az.from_netcdf('modeling_results/linear_modeling_results/RT/allparam_shape_cond_interaction')"
   ]
  },
  {
   "cell_type": "code",
   "execution_count": 35,
   "metadata": {},
   "outputs": [],
   "source": [
    "rt_model_comp = az.compare(model_comp_dict, ic = 'waic')"
   ]
  },
  {
   "cell_type": "code",
   "execution_count": 36,
   "metadata": {},
   "outputs": [
    {
     "name": "stderr",
     "output_type": "stream",
     "text": [
      "C:\\Users\\tejas\\AppData\\Local\\Temp\\ipykernel_484\\4142922275.py:1: FutureWarning: In future versions `DataFrame.to_latex` is expected to utilise the base implementation of `Styler.to_latex` for formatting and rendering. The arguments signature may therefore change. It is recommended instead to use `DataFrame.style.to_latex` which also contains additional functionality.\n",
      "  rt_model_comp.to_latex('rt_model_comp')\n"
     ]
    }
   ],
   "source": [
    "rt_model_comp.to_latex('rt_model_comp')"
   ]
  },
  {
   "cell_type": "code",
   "execution_count": 37,
   "metadata": {},
   "outputs": [
    {
     "data": {
      "text/html": [
       "<div>\n",
       "<style scoped>\n",
       "    .dataframe tbody tr th:only-of-type {\n",
       "        vertical-align: middle;\n",
       "    }\n",
       "\n",
       "    .dataframe tbody tr th {\n",
       "        vertical-align: top;\n",
       "    }\n",
       "\n",
       "    .dataframe thead th {\n",
       "        text-align: right;\n",
       "    }\n",
       "</style>\n",
       "<table border=\"1\" class=\"dataframe\">\n",
       "  <thead>\n",
       "    <tr style=\"text-align: right;\">\n",
       "      <th></th>\n",
       "      <th>rank</th>\n",
       "      <th>elpd_waic</th>\n",
       "      <th>p_waic</th>\n",
       "      <th>elpd_diff</th>\n",
       "      <th>weight</th>\n",
       "      <th>se</th>\n",
       "      <th>dse</th>\n",
       "      <th>warning</th>\n",
       "      <th>scale</th>\n",
       "    </tr>\n",
       "  </thead>\n",
       "  <tbody>\n",
       "    <tr>\n",
       "      <th>allparam_shape_cond_interaction</th>\n",
       "      <td>0</td>\n",
       "      <td>-12627.359824</td>\n",
       "      <td>21.455311</td>\n",
       "      <td>0.000000</td>\n",
       "      <td>0.875656</td>\n",
       "      <td>132.696558</td>\n",
       "      <td>0.000000</td>\n",
       "      <td>False</td>\n",
       "      <td>log</td>\n",
       "    </tr>\n",
       "    <tr>\n",
       "      <th>allparam_additive</th>\n",
       "      <td>1</td>\n",
       "      <td>-12731.823051</td>\n",
       "      <td>15.428767</td>\n",
       "      <td>104.463226</td>\n",
       "      <td>0.124344</td>\n",
       "      <td>131.955862</td>\n",
       "      <td>16.830519</td>\n",
       "      <td>False</td>\n",
       "      <td>log</td>\n",
       "    </tr>\n",
       "  </tbody>\n",
       "</table>\n",
       "</div>"
      ],
      "text/plain": [
       "                                 rank     elpd_waic     p_waic   elpd_diff  \\\n",
       "allparam_shape_cond_interaction     0 -12627.359824  21.455311    0.000000   \n",
       "allparam_additive                   1 -12731.823051  15.428767  104.463226   \n",
       "\n",
       "                                   weight          se        dse  warning  \\\n",
       "allparam_shape_cond_interaction  0.875656  132.696558   0.000000    False   \n",
       "allparam_additive                0.124344  131.955862  16.830519    False   \n",
       "\n",
       "                                scale  \n",
       "allparam_shape_cond_interaction   log  \n",
       "allparam_additive                 log  "
      ]
     },
     "execution_count": 37,
     "metadata": {},
     "output_type": "execute_result"
    }
   ],
   "source": [
    "rt_model_comp"
   ]
  },
  {
   "cell_type": "markdown",
   "metadata": {},
   "source": [
    "# Read saved modeling results"
   ]
  },
  {
   "cell_type": "code",
   "execution_count": 26,
   "metadata": {},
   "outputs": [],
   "source": [
    "# model_with_interaction = az.from_netcdf('modeling_results/linear_modeling_results/model_allparam_interaction')\n",
    "measure = 'accuracy'\n",
    "dir_path = 'modeling_results/linear_modeling_results/Accuracy/'\n",
    "if measure == 'accuracy':\n",
    "    transparent = False\n",
    "else:\n",
    "    transparent = True\n",
    "model_files = os.listdir(dir_path)\n",
    "models = {}\n",
    "for file in model_files:\n",
    "    if file.startswith('.'): #skipping the checkpoint file\n",
    "        continue\n",
    "    models[file] = az.from_netcdf(f'{dir_path}{file}')\n"
   ]
  },
  {
   "cell_type": "code",
   "execution_count": 27,
   "metadata": {},
   "outputs": [],
   "source": [
    "model_comp = {\n",
    "    f'{measure} ~ Choice Format*Shape + Global Extremum Direction + Shift Direction + Shift Magnitude': models['allparam_shape_cond_interaction'],\n",
    "    f'{measure} ~ Choice Format + Shape + Global Extremum Direction + Shift Direction + Shift Magnitude': models['allparam_additive'],\n",
    "    f'{measure} ~ Choice Format*Shape + Global Extremum Direction*Shift Direction + Shift Magnitude': models['allparam_formatinteract_shapediffdirectioninteract_difference'],\n",
    "    f'{measure} ~ Choice Format*Shape + Global Extremum Direction + Shift Direction*Shift Magnitude': models['allparam_formatinteract_shape_diffdirectiondiffinteract'],\n",
    "}"
   ]
  },
  {
   "cell_type": "code",
   "execution_count": 28,
   "metadata": {},
   "outputs": [],
   "source": [
    "model_comparisons = az.compare(model_comp, ic='waic')\n",
    "\n"
   ]
  },
  {
   "cell_type": "code",
   "execution_count": 29,
   "metadata": {},
   "outputs": [
    {
     "name": "stderr",
     "output_type": "stream",
     "text": [
      "C:\\Users\\tejas\\AppData\\Local\\Temp\\ipykernel_19616\\2205845889.py:2: FutureWarning: In future versions `DataFrame.to_latex` is expected to utilise the base implementation of `Styler.to_latex` for formatting and rendering. The arguments signature may therefore change. It is recommended instead to use `DataFrame.style.to_latex` which also contains additional functionality.\n",
      "  model_comparisons[['rank', 'p_waic', 'weight']].to_latex(f'{measure}_model_comp')\n"
     ]
    }
   ],
   "source": [
    "with pd.option_context(\"max_colwidth\", 1000):\n",
    "    model_comparisons[['rank', 'p_waic', 'weight']].to_latex(f'{measure}_model_comp')"
   ]
  },
  {
   "cell_type": "code",
   "execution_count": 30,
   "metadata": {},
   "outputs": [
    {
     "data": {
      "text/html": [
       "<div>\n",
       "<style scoped>\n",
       "    .dataframe tbody tr th:only-of-type {\n",
       "        vertical-align: middle;\n",
       "    }\n",
       "\n",
       "    .dataframe tbody tr th {\n",
       "        vertical-align: top;\n",
       "    }\n",
       "\n",
       "    .dataframe thead th {\n",
       "        text-align: right;\n",
       "    }\n",
       "</style>\n",
       "<table border=\"1\" class=\"dataframe\">\n",
       "  <thead>\n",
       "    <tr style=\"text-align: right;\">\n",
       "      <th></th>\n",
       "      <th>rank</th>\n",
       "      <th>p_waic</th>\n",
       "      <th>weight</th>\n",
       "    </tr>\n",
       "  </thead>\n",
       "  <tbody>\n",
       "    <tr>\n",
       "      <th>accuracy ~ Choice Format*Shape + Global Extremum Direction*Shift Direction + Shift Magnitude</th>\n",
       "      <td>0</td>\n",
       "      <td>13.979604</td>\n",
       "      <td>0.844371</td>\n",
       "    </tr>\n",
       "    <tr>\n",
       "      <th>accuracy ~ Choice Format*Shape + Global Extremum Direction + Shift Direction*Shift Magnitude</th>\n",
       "      <td>1</td>\n",
       "      <td>14.142625</td>\n",
       "      <td>0.155629</td>\n",
       "    </tr>\n",
       "    <tr>\n",
       "      <th>accuracy ~ Choice Format*Shape + Global Extremum Direction + Shift Direction + Shift Magnitude</th>\n",
       "      <td>2</td>\n",
       "      <td>13.229515</td>\n",
       "      <td>0.000000</td>\n",
       "    </tr>\n",
       "    <tr>\n",
       "      <th>accuracy ~ Choice Format + Shape + Global Extremum Direction + Shift Direction + Shift Magnitude</th>\n",
       "      <td>3</td>\n",
       "      <td>8.986326</td>\n",
       "      <td>0.000000</td>\n",
       "    </tr>\n",
       "  </tbody>\n",
       "</table>\n",
       "</div>"
      ],
      "text/plain": [
       "                                                    rank     p_waic    weight\n",
       "accuracy ~ Choice Format*Shape + Global Extremu...     0  13.979604  0.844371\n",
       "accuracy ~ Choice Format*Shape + Global Extremu...     1  14.142625  0.155629\n",
       "accuracy ~ Choice Format*Shape + Global Extremu...     2  13.229515  0.000000\n",
       "accuracy ~ Choice Format + Shape + Global Extre...     3   8.986326  0.000000"
      ]
     },
     "execution_count": 30,
     "metadata": {},
     "output_type": "execute_result"
    }
   ],
   "source": [
    "model_comparisons[['rank', 'p_waic', 'weight']]"
   ]
  },
  {
   "cell_type": "markdown",
   "metadata": {},
   "source": [
    "# Winning models"
   ]
  },
  {
   "cell_type": "code",
   "execution_count": 15,
   "metadata": {},
   "outputs": [],
   "source": [
    "models['allparam_formatinteract_shapediffdirectioninteract_difference'].rename_vars({'C(direction)':'Global Extremum Direction'}, inplace = True)\n",
    "models['allparam_formatinteract_shapediffdirectioninteract_difference'].rename_vars({'C(diff_dir)':'Shift Direction'}, inplace = True)\n",
    "models['allparam_formatinteract_shapediffdirectioninteract_difference'].rename_vars({'C(direction):C(diff_dir)':'Global Extremum Direction:Shift Direction'}, inplace = True)\n",
    "models['allparam_formatinteract_shapediffdirectioninteract_difference'].rename_vars({'difference':'Shift Magnitude'}, inplace = True)\n",
    "models['allparam_formatinteract_shapediffdirectioninteract_difference'].rename_vars({'cond':'Choice Format'}, inplace = True)\n",
    "models['allparam_formatinteract_shapediffdirectioninteract_difference'].rename_vars({'shape:cond':'Shape:Choice Format'}, inplace = True)\n",
    "models['allparam_formatinteract_shapediffdirectioninteract_difference'].rename_vars({'shape':'Shape'}, inplace = True)\n",
    "\n"
   ]
  },
  {
   "cell_type": "code",
   "execution_count": 16,
   "metadata": {},
   "outputs": [],
   "source": [
    "models['allparam_formatinteract_shapediffdirectioninteract_difference'].assign_coords({'C(direction)_dim':['Global Maximum']}, inplace = True)\n",
    "models['allparam_formatinteract_shapediffdirectioninteract_difference'].assign_coords({'C(direction):C(diff_dir)_dim': ['Global Maximum, Positive']}, inplace = True) \n",
    "models['allparam_formatinteract_shapediffdirectioninteract_difference'].assign_coords({'C(diff_dir)_dim':['Positive']}, inplace = True)\n",
    "\n"
   ]
  },
  {
   "cell_type": "code",
   "execution_count": null,
   "metadata": {},
   "outputs": [],
   "source": []
  },
  {
   "cell_type": "code",
   "execution_count": 12,
   "metadata": {},
   "outputs": [
    {
     "data": {
      "image/png": "[encoded data removed]",
      "text/plain": [
       "<Figure size 1200x1344 with 1 Axes>"
      ]
     },
     "metadata": {},
     "output_type": "display_data"
    }
   ],
   "source": [
    "sns.set_context('talk')\n",
    "sns.set_theme(style='darkgrid')\n",
    "# fig, ax = plt.subplots()\n",
    "if measure == 'accuracy':\n",
    "    az.plot_forest(models['allparam_formatinteract_shapediffdirectioninteract_difference'], \n",
    "                  hdi_prob=.95, kind = 'ridgeplot', ridgeplot_alpha=0.2, combined=True,\n",
    "                  var_names = ['~Intercept', '~means'], filter_vars = 'like')\n",
    "else:\n",
    "    az.plot_forest(models['allparam_formatinteract_shapediffdirectioninteract_difference'], \n",
    "                  hdi_prob=.95, kind = 'ridgeplot', ridgeplot_alpha=0.2, combined=True,\n",
    "                  var_names = ['~rt_lam', '~Intercept', '~means'], filter_vars = 'like')\n",
    "\n",
    "plt.axvline(0, ls = '--', color = 'black')\n",
    "plt.ylabel('Parameter')\n",
    "plt.xlabel('Parameter Estimate')\n",
    "# fig.align_ylabels()\n",
    "plt.savefig(f'figures/{measure}_ridgeplot.png', dpi = 300, transparent = False, bbox_inches = 'tight')\n",
    "# plt.title(f'{measure}')\n",
    "# plt.savefig('figures/rt_posteriorplot.png', dpi = 300, transparent = True)\n"
   ]
  },
  {
   "cell_type": "code",
   "execution_count": null,
   "metadata": {},
   "outputs": [],
   "source": []
  },
  {
   "cell_type": "code",
   "execution_count": 28,
   "metadata": {},
   "outputs": [],
   "source": [
    "model = models_with_interaction_specification(dv = 'rt', family = 'wald', \n",
    "                                            link = 'logit', \n",
    "                                              formula_rhs = 'means + shape*cond + C(direction)*C(diff_dir) + difference',\n",
    "                                             )\n",
    "model_samples = models['allparam_formatinteract_shapediffdirectioninteract_difference']\n",
    "fitted = model.predict(model_samples, kind = 'pps')\n",
    "az.plot_ppc(model_samples, mean=False)\n",
    "plt.yticks((0, 1))\n",
    "plt.ylabel('Accuracy Probability Density')\n",
    "plt.xlabel('accuracy')\n",
    "plt.xticks((0.5, 1.5), ('inaccurate', 'accurate'))\n",
    "plt.savefig(f'figures/{measure}_posterior_predictive.png', dpi = 300, transparent = True, bbox_inches = 'tight')\n"
   ]
  },
  {
   "cell_type": "code",
   "execution_count": 17,
   "metadata": {},
   "outputs": [
    {
     "data": {
      "text/html": [
       "<div>\n",
       "<style scoped>\n",
       "    .dataframe tbody tr th:only-of-type {\n",
       "        vertical-align: middle;\n",
       "    }\n",
       "\n",
       "    .dataframe tbody tr th {\n",
       "        vertical-align: top;\n",
       "    }\n",
       "\n",
       "    .dataframe thead th {\n",
       "        text-align: right;\n",
       "    }\n",
       "</style>\n",
       "<table border=\"1\" class=\"dataframe\">\n",
       "  <thead>\n",
       "    <tr style=\"text-align: right;\">\n",
       "      <th></th>\n",
       "      <th>participant</th>\n",
       "      <th>means</th>\n",
       "      <th>direction</th>\n",
       "      <th>bumps</th>\n",
       "      <th>diff_dir</th>\n",
       "      <th>trials.thisN</th>\n",
       "      <th>difference</th>\n",
       "      <th>incorrect choice</th>\n",
       "      <th>key_resp</th>\n",
       "      <th>rt</th>\n",
       "      <th>cond</th>\n",
       "      <th>accuracy</th>\n",
       "      <th>response</th>\n",
       "      <th>shape</th>\n",
       "      <th>participant_id</th>\n",
       "    </tr>\n",
       "  </thead>\n",
       "  <tbody>\n",
       "    <tr>\n",
       "      <th>0</th>\n",
       "      <td>25353.0</td>\n",
       "      <td>64.0</td>\n",
       "      <td>1.0</td>\n",
       "      <td>single</td>\n",
       "      <td>1.0</td>\n",
       "      <td>0.0</td>\n",
       "      <td>8.0</td>\n",
       "      <td>left</td>\n",
       "      <td>left</td>\n",
       "      <td>3.881548</td>\n",
       "      <td>chart</td>\n",
       "      <td>False</td>\n",
       "      <td>-1</td>\n",
       "      <td>single_extremum</td>\n",
       "      <td>25353.0</td>\n",
       "    </tr>\n",
       "    <tr>\n",
       "      <th>1</th>\n",
       "      <td>25353.0</td>\n",
       "      <td>48.0</td>\n",
       "      <td>1.0</td>\n",
       "      <td>noisy</td>\n",
       "      <td>-1.0</td>\n",
       "      <td>1.0</td>\n",
       "      <td>-6.0</td>\n",
       "      <td>right</td>\n",
       "      <td>right</td>\n",
       "      <td>7.387671</td>\n",
       "      <td>chart</td>\n",
       "      <td>False</td>\n",
       "      <td>-1</td>\n",
       "      <td>noisy</td>\n",
       "      <td>25353.0</td>\n",
       "    </tr>\n",
       "    <tr>\n",
       "      <th>2</th>\n",
       "      <td>25353.0</td>\n",
       "      <td>53.0</td>\n",
       "      <td>1.0</td>\n",
       "      <td>noisy</td>\n",
       "      <td>-1.0</td>\n",
       "      <td>2.0</td>\n",
       "      <td>-10.0</td>\n",
       "      <td>left</td>\n",
       "      <td>right</td>\n",
       "      <td>6.337773</td>\n",
       "      <td>chart</td>\n",
       "      <td>True</td>\n",
       "      <td>1</td>\n",
       "      <td>noisy</td>\n",
       "      <td>25353.0</td>\n",
       "    </tr>\n",
       "    <tr>\n",
       "      <th>3</th>\n",
       "      <td>25353.0</td>\n",
       "      <td>64.0</td>\n",
       "      <td>-1.0</td>\n",
       "      <td>center</td>\n",
       "      <td>-1.0</td>\n",
       "      <td>3.0</td>\n",
       "      <td>-8.0</td>\n",
       "      <td>left</td>\n",
       "      <td>right</td>\n",
       "      <td>3.151569</td>\n",
       "      <td>chart</td>\n",
       "      <td>True</td>\n",
       "      <td>1</td>\n",
       "      <td>three_extrema</td>\n",
       "      <td>25353.0</td>\n",
       "    </tr>\n",
       "    <tr>\n",
       "      <th>4</th>\n",
       "      <td>25353.0</td>\n",
       "      <td>60.0</td>\n",
       "      <td>1.0</td>\n",
       "      <td>center</td>\n",
       "      <td>1.0</td>\n",
       "      <td>4.0</td>\n",
       "      <td>8.0</td>\n",
       "      <td>left</td>\n",
       "      <td>right</td>\n",
       "      <td>5.806216</td>\n",
       "      <td>chart</td>\n",
       "      <td>True</td>\n",
       "      <td>1</td>\n",
       "      <td>three_extrema</td>\n",
       "      <td>25353.0</td>\n",
       "    </tr>\n",
       "    <tr>\n",
       "      <th>...</th>\n",
       "      <td>...</td>\n",
       "      <td>...</td>\n",
       "      <td>...</td>\n",
       "      <td>...</td>\n",
       "      <td>...</td>\n",
       "      <td>...</td>\n",
       "      <td>...</td>\n",
       "      <td>...</td>\n",
       "      <td>...</td>\n",
       "      <td>...</td>\n",
       "      <td>...</td>\n",
       "      <td>...</td>\n",
       "      <td>...</td>\n",
       "      <td>...</td>\n",
       "      <td>...</td>\n",
       "    </tr>\n",
       "    <tr>\n",
       "      <th>11410</th>\n",
       "      <td>908388.0</td>\n",
       "      <td>60.0</td>\n",
       "      <td>1.0</td>\n",
       "      <td>noisy</td>\n",
       "      <td>-1.0</td>\n",
       "      <td>285.0</td>\n",
       "      <td>-8.0</td>\n",
       "      <td>left</td>\n",
       "      <td>left</td>\n",
       "      <td>2.442362</td>\n",
       "      <td>chart</td>\n",
       "      <td>False</td>\n",
       "      <td>-1</td>\n",
       "      <td>noisy</td>\n",
       "      <td>908388.0</td>\n",
       "    </tr>\n",
       "    <tr>\n",
       "      <th>11411</th>\n",
       "      <td>908388.0</td>\n",
       "      <td>49.0</td>\n",
       "      <td>1.0</td>\n",
       "      <td>single</td>\n",
       "      <td>-1.0</td>\n",
       "      <td>286.0</td>\n",
       "      <td>-12.0</td>\n",
       "      <td>right</td>\n",
       "      <td>left</td>\n",
       "      <td>0.798230</td>\n",
       "      <td>chart</td>\n",
       "      <td>True</td>\n",
       "      <td>1</td>\n",
       "      <td>single_extremum</td>\n",
       "      <td>908388.0</td>\n",
       "    </tr>\n",
       "    <tr>\n",
       "      <th>11412</th>\n",
       "      <td>908388.0</td>\n",
       "      <td>38.0</td>\n",
       "      <td>-1.0</td>\n",
       "      <td>single</td>\n",
       "      <td>-1.0</td>\n",
       "      <td>287.0</td>\n",
       "      <td>-11.0</td>\n",
       "      <td>left</td>\n",
       "      <td>right</td>\n",
       "      <td>0.681007</td>\n",
       "      <td>chart</td>\n",
       "      <td>True</td>\n",
       "      <td>1</td>\n",
       "      <td>single_extremum</td>\n",
       "      <td>908388.0</td>\n",
       "    </tr>\n",
       "    <tr>\n",
       "      <th>11413</th>\n",
       "      <td>908388.0</td>\n",
       "      <td>62.0</td>\n",
       "      <td>-1.0</td>\n",
       "      <td>center</td>\n",
       "      <td>-1.0</td>\n",
       "      <td>288.0</td>\n",
       "      <td>-12.0</td>\n",
       "      <td>right</td>\n",
       "      <td>left</td>\n",
       "      <td>0.802785</td>\n",
       "      <td>chart</td>\n",
       "      <td>True</td>\n",
       "      <td>1</td>\n",
       "      <td>three_extrema</td>\n",
       "      <td>908388.0</td>\n",
       "    </tr>\n",
       "    <tr>\n",
       "      <th>11414</th>\n",
       "      <td>908388.0</td>\n",
       "      <td>43.0</td>\n",
       "      <td>-1.0</td>\n",
       "      <td>single</td>\n",
       "      <td>1.0</td>\n",
       "      <td>289.0</td>\n",
       "      <td>12.0</td>\n",
       "      <td>right</td>\n",
       "      <td>left</td>\n",
       "      <td>0.887175</td>\n",
       "      <td>chart</td>\n",
       "      <td>True</td>\n",
       "      <td>1</td>\n",
       "      <td>single_extremum</td>\n",
       "      <td>908388.0</td>\n",
       "    </tr>\n",
       "  </tbody>\n",
       "</table>\n",
       "<p>11415 rows × 15 columns</p>\n",
       "</div>"
      ],
      "text/plain": [
       "       participant  means  direction   bumps  diff_dir  trials.thisN  \\\n",
       "0          25353.0   64.0        1.0  single       1.0           0.0   \n",
       "1          25353.0   48.0        1.0   noisy      -1.0           1.0   \n",
       "2          25353.0   53.0        1.0   noisy      -1.0           2.0   \n",
       "3          25353.0   64.0       -1.0  center      -1.0           3.0   \n",
       "4          25353.0   60.0        1.0  center       1.0           4.0   \n",
       "...            ...    ...        ...     ...       ...           ...   \n",
       "11410     908388.0   60.0        1.0   noisy      -1.0         285.0   \n",
       "11411     908388.0   49.0        1.0  single      -1.0         286.0   \n",
       "11412     908388.0   38.0       -1.0  single      -1.0         287.0   \n",
       "11413     908388.0   62.0       -1.0  center      -1.0         288.0   \n",
       "11414     908388.0   43.0       -1.0  single       1.0         289.0   \n",
       "\n",
       "       difference incorrect choice key_resp        rt   cond  accuracy  \\\n",
       "0             8.0             left     left  3.881548  chart     False   \n",
       "1            -6.0            right    right  7.387671  chart     False   \n",
       "2           -10.0             left    right  6.337773  chart      True   \n",
       "3            -8.0             left    right  3.151569  chart      True   \n",
       "4             8.0             left    right  5.806216  chart      True   \n",
       "...           ...              ...      ...       ...    ...       ...   \n",
       "11410        -8.0             left     left  2.442362  chart     False   \n",
       "11411       -12.0            right     left  0.798230  chart      True   \n",
       "11412       -11.0             left    right  0.681007  chart      True   \n",
       "11413       -12.0            right     left  0.802785  chart      True   \n",
       "11414        12.0            right     left  0.887175  chart      True   \n",
       "\n",
       "       response            shape  participant_id  \n",
       "0            -1  single_extremum         25353.0  \n",
       "1            -1            noisy         25353.0  \n",
       "2             1            noisy         25353.0  \n",
       "3             1    three_extrema         25353.0  \n",
       "4             1    three_extrema         25353.0  \n",
       "...         ...              ...             ...  \n",
       "11410        -1            noisy        908388.0  \n",
       "11411         1  single_extremum        908388.0  \n",
       "11412         1  single_extremum        908388.0  \n",
       "11413         1    three_extrema        908388.0  \n",
       "11414         1  single_extremum        908388.0  \n",
       "\n",
       "[11415 rows x 15 columns]"
      ]
     },
     "execution_count": 17,
     "metadata": {},
     "output_type": "execute_result"
    }
   ],
   "source": [
    "comb_data"
   ]
  },
  {
   "cell_type": "code",
   "execution_count": 23,
   "metadata": {},
   "outputs": [],
   "source": [
    "#Renaming columns for plotting graphs\n",
    "mapper = {'cond':'Choice_Format', \n",
    "          'shape':'Shape', \n",
    "          'difference':'Shift_Magnitude', \n",
    "          'direction':'Global_Extremum_Direction', \n",
    "          'diff_dir':'Shift_Direction'\n",
    "         }\n",
    "comb_data.rename(columns=mapper, inplace=True)"
   ]
  },
  {
   "cell_type": "code",
   "execution_count": 31,
   "metadata": {},
   "outputs": [
    {
     "data": {
      "image/svg+xml": [
       "<?xml version=\"1.0\" encoding=\"UTF-8\" standalone=\"no\"?>\n",
       "<!DOCTYPE svg PUBLIC \"-//W3C//DTD SVG 1.1//EN\"\n",
       " \"http://www.w3.org/Graphics/SVG/1.1/DTD/svg11.dtd\">\n",
       "<!-- Generated by graphviz version 2.50.0 (0)\n",
       " -->\n",
       "<!-- Pages: 1 -->\n",
       "<svg width=\"1500pt\" height=\"260pt\"\n",
       " viewBox=\"0.00 0.00 1500.07 259.91\" xmlns=\"http://www.w3.org/2000/svg\" xmlns:xlink=\"http://www.w3.org/1999/xlink\">\n",
       "<g id=\"graph0\" class=\"graph\" transform=\"scale(1 1) rotate(0) translate(4 255.91)\">\n",
       "<polygon fill=\"white\" stroke=\"transparent\" points=\"-4,4 -4,-255.91 1496.07,-255.91 1496.07,4 -4,4\"/>\n",
       "<g id=\"clust3\" class=\"cluster\">\n",
       "<title>clusterChoice_Format:Shape_dim (4)</title>\n",
       "<path fill=\"none\" stroke=\"black\" d=\"M1284.07,-129.95C1284.07,-129.95 1472.07,-129.95 1472.07,-129.95 1478.07,-129.95 1484.07,-135.95 1484.07,-141.95 1484.07,-141.95 1484.07,-231.91 1484.07,-231.91 1484.07,-237.91 1478.07,-243.91 1472.07,-243.91 1472.07,-243.91 1284.07,-243.91 1284.07,-243.91 1278.07,-243.91 1272.07,-237.91 1272.07,-231.91 1272.07,-231.91 1272.07,-141.95 1272.07,-141.95 1272.07,-135.95 1278.07,-129.95 1284.07,-129.95\"/>\n",
       "<text text-anchor=\"middle\" x=\"1391.07\" y=\"-137.75\" font-family=\"Times New Roman,serif\" font-size=\"14.00\">Choice_Format:Shape_dim (4)</text>\n",
       "</g>\n",
       "<g id=\"clust1\" class=\"cluster\">\n",
       "<title>clusterChoice_Format_dim (2)</title>\n",
       "<path fill=\"none\" stroke=\"black\" d=\"M1010.07,-129.95C1010.07,-129.95 1144.07,-129.95 1144.07,-129.95 1150.07,-129.95 1156.07,-135.95 1156.07,-141.95 1156.07,-141.95 1156.07,-231.91 1156.07,-231.91 1156.07,-237.91 1150.07,-243.91 1144.07,-243.91 1144.07,-243.91 1010.07,-243.91 1010.07,-243.91 1004.07,-243.91 998.07,-237.91 998.07,-231.91 998.07,-231.91 998.07,-141.95 998.07,-141.95 998.07,-135.95 1004.07,-129.95 1010.07,-129.95\"/>\n",
       "<text text-anchor=\"middle\" x=\"1081.57\" y=\"-137.75\" font-family=\"Times New Roman,serif\" font-size=\"14.00\">Choice_Format_dim (2)</text>\n",
       "</g>\n",
       "<g id=\"clust2\" class=\"cluster\">\n",
       "<title>clusterShape_dim (2)</title>\n",
       "<path fill=\"none\" stroke=\"black\" d=\"M1176.07,-129.95C1176.07,-129.95 1252.07,-129.95 1252.07,-129.95 1258.07,-129.95 1264.07,-135.95 1264.07,-141.95 1264.07,-141.95 1264.07,-231.91 1264.07,-231.91 1264.07,-237.91 1258.07,-243.91 1252.07,-243.91 1252.07,-243.91 1176.07,-243.91 1176.07,-243.91 1170.07,-243.91 1164.07,-237.91 1164.07,-231.91 1164.07,-231.91 1164.07,-141.95 1164.07,-141.95 1164.07,-135.95 1170.07,-129.95 1176.07,-129.95\"/>\n",
       "<text text-anchor=\"middle\" x=\"1215.07\" y=\"-137.75\" font-family=\"Times New Roman,serif\" font-size=\"14.00\">Shape_dim (2)</text>\n",
       "</g>\n",
       "<g id=\"clust4\" class=\"cluster\">\n",
       "<title>clusteraccuracy_obs (11415)</title>\n",
       "<path fill=\"none\" stroke=\"black\" d=\"M792.07,-8C792.07,-8 905.07,-8 905.07,-8 911.07,-8 917.07,-14 917.07,-20 917.07,-20 917.07,-109.95 917.07,-109.95 917.07,-115.95 911.07,-121.95 905.07,-121.95 905.07,-121.95 792.07,-121.95 792.07,-121.95 786.07,-121.95 780.07,-115.95 780.07,-109.95 780.07,-109.95 780.07,-20 780.07,-20 780.07,-14 786.07,-8 792.07,-8\"/>\n",
       "<text text-anchor=\"middle\" x=\"848.57\" y=\"-15.8\" font-family=\"Times New Roman,serif\" font-size=\"14.00\">accuracy_obs (11415)</text>\n",
       "</g>\n",
       "<!-- Shift_Magnitude -->\n",
       "<g id=\"node1\" class=\"node\">\n",
       "<title>Shift_Magnitude</title>\n",
       "<ellipse fill=\"none\" stroke=\"black\" cx=\"77.07\" cy=\"-198.43\" rx=\"77.15\" ry=\"37.45\"/>\n",
       "<text text-anchor=\"middle\" x=\"77.07\" y=\"-209.73\" font-family=\"Times New Roman,serif\" font-size=\"14.00\">Shift_Magnitude</text>\n",
       "<text text-anchor=\"middle\" x=\"77.07\" y=\"-194.73\" font-family=\"Times New Roman,serif\" font-size=\"14.00\">~</text>\n",
       "<text text-anchor=\"middle\" x=\"77.07\" y=\"-179.73\" font-family=\"Times New Roman,serif\" font-size=\"14.00\">Normal</text>\n",
       "</g>\n",
       "<!-- accuracy -->\n",
       "<g id=\"node9\" class=\"node\">\n",
       "<title>accuracy</title>\n",
       "<ellipse fill=\"lightgrey\" stroke=\"black\" cx=\"848.07\" cy=\"-76.48\" rx=\"48.17\" ry=\"37.45\"/>\n",
       "<text text-anchor=\"middle\" x=\"848.07\" y=\"-87.78\" font-family=\"Times New Roman,serif\" font-size=\"14.00\">accuracy</text>\n",
       "<text text-anchor=\"middle\" x=\"848.07\" y=\"-72.78\" font-family=\"Times New Roman,serif\" font-size=\"14.00\">~</text>\n",
       "<text text-anchor=\"middle\" x=\"848.07\" y=\"-57.78\" font-family=\"Times New Roman,serif\" font-size=\"14.00\">Bernoulli</text>\n",
       "</g>\n",
       "<!-- Shift_Magnitude&#45;&gt;accuracy -->\n",
       "<g id=\"edge2\" class=\"edge\">\n",
       "<title>Shift_Magnitude&#45;&gt;accuracy</title>\n",
       "<path fill=\"none\" stroke=\"black\" d=\"M109.69,-164.36C124.67,-151.29 143.44,-137.59 163.07,-129.95 276.67,-85.78 645.51,-78.69 789.62,-77.63\"/>\n",
       "<polygon fill=\"black\" stroke=\"black\" points=\"790.03,-81.13 800.01,-77.56 789.99,-74.13 790.03,-81.13\"/>\n",
       "</g>\n",
       "<!-- Shift_Direction&amp;Shift_Magnitude -->\n",
       "<g id=\"node2\" class=\"node\">\n",
       "<title>Shift_Direction&amp;Shift_Magnitude</title>\n",
       "<ellipse fill=\"none\" stroke=\"black\" cx=\"311.07\" cy=\"-198.43\" rx=\"139.1\" ry=\"37.45\"/>\n",
       "<text text-anchor=\"middle\" x=\"311.07\" y=\"-209.73\" font-family=\"Times New Roman,serif\" font-size=\"14.00\">Shift_Direction:Shift_Magnitude</text>\n",
       "<text text-anchor=\"middle\" x=\"311.07\" y=\"-194.73\" font-family=\"Times New Roman,serif\" font-size=\"14.00\">~</text>\n",
       "<text text-anchor=\"middle\" x=\"311.07\" y=\"-179.73\" font-family=\"Times New Roman,serif\" font-size=\"14.00\">Normal</text>\n",
       "</g>\n",
       "<!-- Shift_Direction&amp;Shift_Magnitude&#45;&gt;accuracy -->\n",
       "<g id=\"edge4\" class=\"edge\">\n",
       "<title>Shift_Direction&amp;Shift_Magnitude&#45;&gt;accuracy</title>\n",
       "<path fill=\"none\" stroke=\"black\" d=\"M372.61,-164.69C398.9,-152 430.33,-138.5 460.07,-129.95 573.95,-97.23 712.62,-84.74 789.54,-80.1\"/>\n",
       "<polygon fill=\"black\" stroke=\"black\" points=\"790.19,-83.57 799.97,-79.5 789.79,-76.58 790.19,-83.57\"/>\n",
       "</g>\n",
       "<!-- Shift_Direction -->\n",
       "<g id=\"node3\" class=\"node\">\n",
       "<title>Shift_Direction</title>\n",
       "<ellipse fill=\"none\" stroke=\"black\" cx=\"540.07\" cy=\"-198.43\" rx=\"71.34\" ry=\"37.45\"/>\n",
       "<text text-anchor=\"middle\" x=\"540.07\" y=\"-209.73\" font-family=\"Times New Roman,serif\" font-size=\"14.00\">Shift_Direction</text>\n",
       "<text text-anchor=\"middle\" x=\"540.07\" y=\"-194.73\" font-family=\"Times New Roman,serif\" font-size=\"14.00\">~</text>\n",
       "<text text-anchor=\"middle\" x=\"540.07\" y=\"-179.73\" font-family=\"Times New Roman,serif\" font-size=\"14.00\">Normal</text>\n",
       "</g>\n",
       "<!-- Shift_Direction&#45;&gt;accuracy -->\n",
       "<g id=\"edge6\" class=\"edge\">\n",
       "<title>Shift_Direction&#45;&gt;accuracy</title>\n",
       "<path fill=\"none\" stroke=\"black\" d=\"M572.24,-164.66C586.19,-152.13 603.37,-138.74 621.07,-129.95 674.91,-103.22 742.73,-89.84 790.16,-83.32\"/>\n",
       "<polygon fill=\"black\" stroke=\"black\" points=\"790.8,-86.77 800.26,-81.99 789.89,-79.83 790.8,-86.77\"/>\n",
       "</g>\n",
       "<!-- Global_Extremum_Direction -->\n",
       "<g id=\"node4\" class=\"node\">\n",
       "<title>Global_Extremum_Direction</title>\n",
       "<ellipse fill=\"none\" stroke=\"black\" cx=\"754.07\" cy=\"-198.43\" rx=\"124.4\" ry=\"37.45\"/>\n",
       "<text text-anchor=\"middle\" x=\"754.07\" y=\"-209.73\" font-family=\"Times New Roman,serif\" font-size=\"14.00\">Global_Extremum_Direction</text>\n",
       "<text text-anchor=\"middle\" x=\"754.07\" y=\"-194.73\" font-family=\"Times New Roman,serif\" font-size=\"14.00\">~</text>\n",
       "<text text-anchor=\"middle\" x=\"754.07\" y=\"-179.73\" font-family=\"Times New Roman,serif\" font-size=\"14.00\">Normal</text>\n",
       "</g>\n",
       "<!-- Global_Extremum_Direction&#45;&gt;accuracy -->\n",
       "<g id=\"edge7\" class=\"edge\">\n",
       "<title>Global_Extremum_Direction&#45;&gt;accuracy</title>\n",
       "<path fill=\"none\" stroke=\"black\" d=\"M782.02,-161.76C793.06,-147.68 805.79,-131.44 817.11,-117\"/>\n",
       "<polygon fill=\"black\" stroke=\"black\" points=\"820.17,-118.76 823.58,-108.73 814.66,-114.44 820.17,-118.76\"/>\n",
       "</g>\n",
       "<!-- Intercept -->\n",
       "<g id=\"node5\" class=\"node\">\n",
       "<title>Intercept</title>\n",
       "<ellipse fill=\"none\" stroke=\"black\" cx=\"942.07\" cy=\"-198.43\" rx=\"45.92\" ry=\"37.45\"/>\n",
       "<text text-anchor=\"middle\" x=\"942.07\" y=\"-209.73\" font-family=\"Times New Roman,serif\" font-size=\"14.00\">Intercept</text>\n",
       "<text text-anchor=\"middle\" x=\"942.07\" y=\"-194.73\" font-family=\"Times New Roman,serif\" font-size=\"14.00\">~</text>\n",
       "<text text-anchor=\"middle\" x=\"942.07\" y=\"-179.73\" font-family=\"Times New Roman,serif\" font-size=\"14.00\">Normal</text>\n",
       "</g>\n",
       "<!-- Intercept&#45;&gt;accuracy -->\n",
       "<g id=\"edge8\" class=\"edge\">\n",
       "<title>Intercept&#45;&gt;accuracy</title>\n",
       "<path fill=\"none\" stroke=\"black\" d=\"M917.87,-166.54C906.1,-151.52 891.82,-133.3 879.25,-117.26\"/>\n",
       "<polygon fill=\"black\" stroke=\"black\" points=\"881.78,-114.81 872.85,-109.1 876.27,-119.13 881.78,-114.81\"/>\n",
       "</g>\n",
       "<!-- Choice_Format -->\n",
       "<g id=\"node6\" class=\"node\">\n",
       "<title>Choice_Format</title>\n",
       "<ellipse fill=\"none\" stroke=\"black\" cx=\"1077.07\" cy=\"-198.43\" rx=\"71.34\" ry=\"37.45\"/>\n",
       "<text text-anchor=\"middle\" x=\"1077.07\" y=\"-209.73\" font-family=\"Times New Roman,serif\" font-size=\"14.00\">Choice_Format</text>\n",
       "<text text-anchor=\"middle\" x=\"1077.07\" y=\"-194.73\" font-family=\"Times New Roman,serif\" font-size=\"14.00\">~</text>\n",
       "<text text-anchor=\"middle\" x=\"1077.07\" y=\"-179.73\" font-family=\"Times New Roman,serif\" font-size=\"14.00\">Normal</text>\n",
       "</g>\n",
       "<!-- Choice_Format&#45;&gt;accuracy -->\n",
       "<g id=\"edge3\" class=\"edge\">\n",
       "<title>Choice_Format&#45;&gt;accuracy</title>\n",
       "<path fill=\"none\" stroke=\"black\" d=\"M1044.08,-164.93C1030.38,-152.73 1013.79,-139.52 997.07,-129.95 967.9,-113.26 932.51,-100.53 903.55,-91.78\"/>\n",
       "<polygon fill=\"black\" stroke=\"black\" points=\"904.17,-88.32 893.59,-88.86 902.2,-95.03 904.17,-88.32\"/>\n",
       "</g>\n",
       "<!-- Shape -->\n",
       "<g id=\"node7\" class=\"node\">\n",
       "<title>Shape</title>\n",
       "<ellipse fill=\"none\" stroke=\"black\" cx=\"1214.07\" cy=\"-198.43\" rx=\"41.94\" ry=\"37.45\"/>\n",
       "<text text-anchor=\"middle\" x=\"1214.07\" y=\"-209.73\" font-family=\"Times New Roman,serif\" font-size=\"14.00\">Shape</text>\n",
       "<text text-anchor=\"middle\" x=\"1214.07\" y=\"-194.73\" font-family=\"Times New Roman,serif\" font-size=\"14.00\">~</text>\n",
       "<text text-anchor=\"middle\" x=\"1214.07\" y=\"-179.73\" font-family=\"Times New Roman,serif\" font-size=\"14.00\">Normal</text>\n",
       "</g>\n",
       "<!-- Shape&#45;&gt;accuracy -->\n",
       "<g id=\"edge1\" class=\"edge\">\n",
       "<title>Shape&#45;&gt;accuracy</title>\n",
       "<path fill=\"none\" stroke=\"black\" d=\"M1195.3,-164.78C1186.28,-151.95 1174.3,-138.31 1160.07,-129.95 1118.04,-105.25 984.26,-89.57 906.2,-82.28\"/>\n",
       "<polygon fill=\"black\" stroke=\"black\" points=\"906.31,-78.78 896.03,-81.35 905.67,-85.75 906.31,-78.78\"/>\n",
       "</g>\n",
       "<!-- Choice_Format&amp;Shape -->\n",
       "<g id=\"node8\" class=\"node\">\n",
       "<title>Choice_Format&amp;Shape</title>\n",
       "<ellipse fill=\"none\" stroke=\"black\" cx=\"1378.07\" cy=\"-198.43\" rx=\"97.66\" ry=\"37.45\"/>\n",
       "<text text-anchor=\"middle\" x=\"1378.07\" y=\"-209.73\" font-family=\"Times New Roman,serif\" font-size=\"14.00\">Choice_Format:Shape</text>\n",
       "<text text-anchor=\"middle\" x=\"1378.07\" y=\"-194.73\" font-family=\"Times New Roman,serif\" font-size=\"14.00\">~</text>\n",
       "<text text-anchor=\"middle\" x=\"1378.07\" y=\"-179.73\" font-family=\"Times New Roman,serif\" font-size=\"14.00\">Normal</text>\n",
       "</g>\n",
       "<!-- Choice_Format&amp;Shape&#45;&gt;accuracy -->\n",
       "<g id=\"edge5\" class=\"edge\">\n",
       "<title>Choice_Format&amp;Shape&#45;&gt;accuracy</title>\n",
       "<path fill=\"none\" stroke=\"black\" d=\"M1334.51,-164.75C1315.12,-151.84 1291.44,-138.15 1268.07,-129.95 1144.39,-86.58 989.16,-78.17 906.39,-77.06\"/>\n",
       "<polygon fill=\"black\" stroke=\"black\" points=\"906.21,-73.56 896.18,-76.96 906.14,-80.56 906.21,-73.56\"/>\n",
       "</g>\n",
       "</g>\n",
       "</svg>\n"
      ],
      "text/plain": [
       "<graphviz.graphs.Digraph at 0x1e49b966cd0>"
      ]
     },
     "execution_count": 31,
     "metadata": {},
     "output_type": "execute_result"
    }
   ],
   "source": [
    "model = models_with_interaction_specification(dv = 'accuracy', family = 'bernoulli', \n",
    "                                            link = 'logit', data=comb_data,\n",
    "                                              formula_rhs = 'Choice_Format*Shape + Global_Extremum_Direction + Shift_Direction*Shift_Magnitude'\n",
    "                                             )\n",
    "\n",
    "                                              \n",
    "                                              \n",
    "model.graph(name=f'figures/{measure}_model_graph.png')\n"
   ]
  },
  {
   "cell_type": "code",
   "execution_count": null,
   "metadata": {},
   "outputs": [],
   "source": []
  },
  {
   "cell_type": "code",
   "execution_count": 27,
   "metadata": {},
   "outputs": [
    {
     "name": "stderr",
     "output_type": "stream",
     "text": [
      "C:\\Users\\tejas\\AppData\\Local\\Temp\\ipykernel_15132\\2205521814.py:3: FutureWarning: In future versions `DataFrame.to_latex` is expected to utilise the base implementation of `Styler.to_latex` for formatting and rendering. The arguments signature may therefore change. It is recommended instead to use `DataFrame.style.to_latex` which also contains additional functionality.\n",
      "  stat_summary.to_latex(f'{measure}_stats_table')\n"
     ]
    }
   ],
   "source": [
    "stat_summary = az.summary(models['allparam_formatinteract_shapediffdirectioninteract_difference'], hdi_prob=0.95, stat_focus='mean', kind = 'stats',)\n",
    "with pd.option_context(\"max_colwidth\", 1000):\n",
    "    stat_summary.to_latex(f'{measure}_stats_table')"
   ]
  },
  {
   "cell_type": "code",
   "execution_count": 28,
   "metadata": {},
   "outputs": [
    {
     "data": {
      "text/html": [
       "<div>\n",
       "<style scoped>\n",
       "    .dataframe tbody tr th:only-of-type {\n",
       "        vertical-align: middle;\n",
       "    }\n",
       "\n",
       "    .dataframe tbody tr th {\n",
       "        vertical-align: top;\n",
       "    }\n",
       "\n",
       "    .dataframe thead th {\n",
       "        text-align: right;\n",
       "    }\n",
       "</style>\n",
       "<table border=\"1\" class=\"dataframe\">\n",
       "  <thead>\n",
       "    <tr style=\"text-align: right;\">\n",
       "      <th></th>\n",
       "      <th>mean</th>\n",
       "      <th>sd</th>\n",
       "      <th>hdi_2.5%</th>\n",
       "      <th>hdi_97.5%</th>\n",
       "    </tr>\n",
       "  </thead>\n",
       "  <tbody>\n",
       "    <tr>\n",
       "      <th>Intercept</th>\n",
       "      <td>0.840</td>\n",
       "      <td>0.051</td>\n",
       "      <td>0.742</td>\n",
       "      <td>0.942</td>\n",
       "    </tr>\n",
       "    <tr>\n",
       "      <th>means</th>\n",
       "      <td>0.001</td>\n",
       "      <td>0.001</td>\n",
       "      <td>-0.001</td>\n",
       "      <td>0.002</td>\n",
       "    </tr>\n",
       "    <tr>\n",
       "      <th>Shape[single_extremum]</th>\n",
       "      <td>-0.534</td>\n",
       "      <td>0.032</td>\n",
       "      <td>-0.600</td>\n",
       "      <td>-0.476</td>\n",
       "    </tr>\n",
       "    <tr>\n",
       "      <th>Shape[three_extrema]</th>\n",
       "      <td>-0.525</td>\n",
       "      <td>0.032</td>\n",
       "      <td>-0.590</td>\n",
       "      <td>-0.466</td>\n",
       "    </tr>\n",
       "    <tr>\n",
       "      <th>Choice Format[numerical]</th>\n",
       "      <td>-0.582</td>\n",
       "      <td>0.036</td>\n",
       "      <td>-0.660</td>\n",
       "      <td>-0.518</td>\n",
       "    </tr>\n",
       "    <tr>\n",
       "      <th>Choice Format[slider]</th>\n",
       "      <td>-0.284</td>\n",
       "      <td>0.039</td>\n",
       "      <td>-0.363</td>\n",
       "      <td>-0.210</td>\n",
       "    </tr>\n",
       "    <tr>\n",
       "      <th>Shape:Choice Format[single_extremum, numerical]</th>\n",
       "      <td>0.509</td>\n",
       "      <td>0.042</td>\n",
       "      <td>0.426</td>\n",
       "      <td>0.589</td>\n",
       "    </tr>\n",
       "    <tr>\n",
       "      <th>Shape:Choice Format[single_extremum, slider]</th>\n",
       "      <td>0.474</td>\n",
       "      <td>0.047</td>\n",
       "      <td>0.388</td>\n",
       "      <td>0.571</td>\n",
       "    </tr>\n",
       "    <tr>\n",
       "      <th>Shape:Choice Format[three_extrema, numerical]</th>\n",
       "      <td>0.465</td>\n",
       "      <td>0.042</td>\n",
       "      <td>0.385</td>\n",
       "      <td>0.548</td>\n",
       "    </tr>\n",
       "    <tr>\n",
       "      <th>Shape:Choice Format[three_extrema, slider]</th>\n",
       "      <td>0.531</td>\n",
       "      <td>0.046</td>\n",
       "      <td>0.443</td>\n",
       "      <td>0.622</td>\n",
       "    </tr>\n",
       "    <tr>\n",
       "      <th>Global Extremum Direction[Global Maximum]</th>\n",
       "      <td>-0.040</td>\n",
       "      <td>0.018</td>\n",
       "      <td>-0.077</td>\n",
       "      <td>-0.006</td>\n",
       "    </tr>\n",
       "    <tr>\n",
       "      <th>Shift Direction[Positive]</th>\n",
       "      <td>-0.017</td>\n",
       "      <td>0.044</td>\n",
       "      <td>-0.101</td>\n",
       "      <td>0.067</td>\n",
       "    </tr>\n",
       "    <tr>\n",
       "      <th>Global Extremum Direction:Shift Direction[Global Maximum, Positive]</th>\n",
       "      <td>0.064</td>\n",
       "      <td>0.025</td>\n",
       "      <td>0.015</td>\n",
       "      <td>0.110</td>\n",
       "    </tr>\n",
       "    <tr>\n",
       "      <th>Shift Magnitude</th>\n",
       "      <td>-0.000</td>\n",
       "      <td>0.002</td>\n",
       "      <td>-0.004</td>\n",
       "      <td>0.004</td>\n",
       "    </tr>\n",
       "    <tr>\n",
       "      <th>rt_lam</th>\n",
       "      <td>3.479</td>\n",
       "      <td>0.045</td>\n",
       "      <td>3.392</td>\n",
       "      <td>3.566</td>\n",
       "    </tr>\n",
       "  </tbody>\n",
       "</table>\n",
       "</div>"
      ],
      "text/plain": [
       "                                                     mean     sd  hdi_2.5%  \\\n",
       "Intercept                                           0.840  0.051     0.742   \n",
       "means                                               0.001  0.001    -0.001   \n",
       "Shape[single_extremum]                             -0.534  0.032    -0.600   \n",
       "Shape[three_extrema]                               -0.525  0.032    -0.590   \n",
       "Choice Format[numerical]                           -0.582  0.036    -0.660   \n",
       "Choice Format[slider]                              -0.284  0.039    -0.363   \n",
       "Shape:Choice Format[single_extremum, numerical]     0.509  0.042     0.426   \n",
       "Shape:Choice Format[single_extremum, slider]        0.474  0.047     0.388   \n",
       "Shape:Choice Format[three_extrema, numerical]       0.465  0.042     0.385   \n",
       "Shape:Choice Format[three_extrema, slider]          0.531  0.046     0.443   \n",
       "Global Extremum Direction[Global Maximum]          -0.040  0.018    -0.077   \n",
       "Shift Direction[Positive]                          -0.017  0.044    -0.101   \n",
       "Global Extremum Direction:Shift Direction[Globa...  0.064  0.025     0.015   \n",
       "Shift Magnitude                                    -0.000  0.002    -0.004   \n",
       "rt_lam                                              3.479  0.045     3.392   \n",
       "\n",
       "                                                    hdi_97.5%  \n",
       "Intercept                                               0.942  \n",
       "means                                                   0.002  \n",
       "Shape[single_extremum]                                 -0.476  \n",
       "Shape[three_extrema]                                   -0.466  \n",
       "Choice Format[numerical]                               -0.518  \n",
       "Choice Format[slider]                                  -0.210  \n",
       "Shape:Choice Format[single_extremum, numerical]         0.589  \n",
       "Shape:Choice Format[single_extremum, slider]            0.571  \n",
       "Shape:Choice Format[three_extrema, numerical]           0.548  \n",
       "Shape:Choice Format[three_extrema, slider]              0.622  \n",
       "Global Extremum Direction[Global Maximum]              -0.006  \n",
       "Shift Direction[Positive]                               0.067  \n",
       "Global Extremum Direction:Shift Direction[Globa...      0.110  \n",
       "Shift Magnitude                                         0.004  \n",
       "rt_lam                                                  3.566  "
      ]
     },
     "execution_count": 28,
     "metadata": {},
     "output_type": "execute_result"
    }
   ],
   "source": [
    "stat_summary"
   ]
  }
 ],
 "metadata": {
  "kernelspec": {
   "display_name": "Python 3 (ipykernel)",
   "language": "python",
   "name": "python3"
  },
  "language_info": {
   "codemirror_mode": {
    "name": "ipython",
    "version": 3
   },
   "file_extension": ".py",
   "mimetype": "text/x-python",
   "name": "python",
   "nbconvert_exporter": "python",
   "pygments_lexer": "ipython3",
   "version": "3.11.3"
  }
 },
 "nbformat": 4,
 "nbformat_minor": 4
}
